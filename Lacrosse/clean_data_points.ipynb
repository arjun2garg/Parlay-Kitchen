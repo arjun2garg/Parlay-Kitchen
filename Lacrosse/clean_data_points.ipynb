{
 "cells": [
  {
   "cell_type": "code",
   "execution_count": 88,
   "metadata": {},
   "outputs": [],
   "source": [
    "import torch\n",
    "import torch.nn as nn\n",
    "import torch.nn.functional as F\n",
    "import matplotlib.pyplot as plt\n",
    "import numpy as np\n",
    "import pandas as pd"
   ]
  },
  {
   "cell_type": "code",
   "execution_count": 89,
   "metadata": {},
   "outputs": [],
   "source": [
    "offense = pd.read_csv('2024 Offense.csv')\n",
    "offense['Unnamed: 0'] = offense['Unnamed: 0'].shift(-2)\n",
    "offense = offense.dropna()\n",
    "offense = offense.drop(columns=['SH%', 'TO'])\n",
    "offense['Unnamed: 0'] = offense['Unnamed: 0'].astype(str)"
   ]
  },
  {
   "cell_type": "code",
   "execution_count": 90,
   "metadata": {},
   "outputs": [],
   "source": [
    "defense = pd.read_csv('2024 Defense.csv')\n",
    "defense['ï»¿'] = defense['ï»¿'].shift(-2)\n",
    "defense = defense.dropna()\n",
    "defense = defense.drop(columns=['GB', 'P', 'PEN', 'SH', 'SOG', 'TCH', 'PAS'])\n",
    "defense['CT'] = defense['CT'].astype(float)"
   ]
  },
  {
   "cell_type": "code",
   "execution_count": 91,
   "metadata": {},
   "outputs": [],
   "source": [
    "goalie = pd.read_csv('2024 Goalie.csv')\n",
    "goalie['Unnamed: 0'] = goalie['Unnamed: 0'].shift(-2)\n",
    "goalie = goalie.dropna()\n",
    "goalie = goalie.drop(columns=['SV%', 'Unnamed: 0'])"
   ]
  },
  {
   "cell_type": "code",
   "execution_count": 92,
   "metadata": {},
   "outputs": [],
   "source": [
    "posession = pd.read_csv('2024 Posession.csv')"
   ]
  },
  {
   "cell_type": "code",
   "execution_count": 93,
   "metadata": {},
   "outputs": [],
   "source": [
    "ct_df = defense.groupby(['GID', 'TID'])['CT'].sum().reset_index()"
   ]
  },
  {
   "cell_type": "code",
   "execution_count": 94,
   "metadata": {},
   "outputs": [],
   "source": [
    "ct_df['OTID'] = ct_df.groupby('GID')['TID'].transform(lambda x: x.iloc[::-1].values)"
   ]
  },
  {
   "cell_type": "code",
   "execution_count": 95,
   "metadata": {},
   "outputs": [],
   "source": [
    "clean_data = pd.merge(offense, ct_df, on=['GID', 'TID'], how='outer')"
   ]
  },
  {
   "cell_type": "code",
   "execution_count": 96,
   "metadata": {},
   "outputs": [],
   "source": [
    "goalie_sa = goalie.groupby(['GID', 'TID'])['SA'].sum().reset_index()\n",
    "goalie_sv = goalie.groupby(['GID', 'TID'])['SV'].sum().reset_index()\n",
    "goalie = pd.merge(goalie_sa, goalie_sv, on=['GID', 'TID'], how='outer')"
   ]
  },
  {
   "cell_type": "code",
   "execution_count": 97,
   "metadata": {},
   "outputs": [],
   "source": [
    "clean_data = pd.merge(clean_data, goalie, on=['GID', 'TID'], how='outer')"
   ]
  },
  {
   "cell_type": "code",
   "execution_count": 98,
   "metadata": {},
   "outputs": [],
   "source": [
    "clean_data = pd.merge(clean_data, posession, on=['GID', 'TID'], how='outer')"
   ]
  },
  {
   "cell_type": "code",
   "execution_count": 99,
   "metadata": {},
   "outputs": [],
   "source": [
    "cur_data = clean_data.groupby('Unnamed: 0').mean().reset_index()"
   ]
  },
  {
   "cell_type": "code",
   "execution_count": 100,
   "metadata": {},
   "outputs": [],
   "source": [
    "cur_data.to_csv('cur_data.csv')"
   ]
  },
  {
   "cell_type": "code",
   "execution_count": 101,
   "metadata": {},
   "outputs": [],
   "source": [
    "def make_context(df):\n",
    "    to_change = [\n",
    "        '1G',\n",
    "        '2G',\n",
    "        'A',\n",
    "        'SH',\n",
    "        'SOG',\n",
    "        'GB',\n",
    "        'TCH',\n",
    "        'PAS',\n",
    "        'CT',\n",
    "        'SA',\n",
    "        'SV',\n",
    "        'PS%'\n",
    "    ]\n",
    "\n",
    "    def calculate_previous_avg(group):\n",
    "        prev_avg = []\n",
    "        total = 0\n",
    "        count = 0\n",
    "        for value in group:\n",
    "            if count == 0:\n",
    "                prev_avg.append(total)\n",
    "            else:\n",
    "                prev_avg.append(total / count)\n",
    "            count += 1\n",
    "            total += value\n",
    "        return pd.Series(prev_avg, index = group.index)\n",
    "    \n",
    "    df = df.sort_values(by='GID')\n",
    "\n",
    "    for stat in to_change:\n",
    "        df[stat] = df.groupby('Unnamed: 0')[stat].apply(calculate_previous_avg).reset_index(level=0, drop=True)\n",
    "    \n",
    "\n",
    "    return df"
   ]
  },
  {
   "cell_type": "code",
   "execution_count": 102,
   "metadata": {},
   "outputs": [],
   "source": [
    "clean_data = make_context(clean_data)"
   ]
  },
  {
   "cell_type": "code",
   "execution_count": 103,
   "metadata": {},
   "outputs": [],
   "source": [
    "clean_data = clean_data.sort_values(by=['GID', 'TID'])\n",
    "clean_data['OPS%'] = clean_data.groupby('GID')['PS%'].transform(lambda x: x.iloc[::-1].values)\n",
    "clean_data['OCT'] = clean_data.groupby('GID')['CT'].transform(lambda x: x.iloc[::-1].values)\n",
    "clean_data['OSA'] = clean_data.groupby('GID')['SA'].transform(lambda x: x.iloc[::-1].values)\n",
    "clean_data['OSV'] = clean_data.groupby('GID')['SV'].transform(lambda x: x.iloc[::-1].values)"
   ]
  },
  {
   "cell_type": "code",
   "execution_count": 104,
   "metadata": {},
   "outputs": [
    {
     "name": "stderr",
     "output_type": "stream",
     "text": [
      "/var/folders/1j/ycj6sm297qj2d2b1b3pb8k980000gn/T/ipykernel_60218/3323778609.py:1: DeprecationWarning: DataFrameGroupBy.apply operated on the grouping columns. This behavior is deprecated, and in a future version of pandas the grouping columns will be excluded from the operation. Either pass `include_groups=False` to exclude the groupings or explicitly select the grouping columns after groupby to silence this warning.\n",
      "  clean_data = clean_data.groupby('Unnamed: 0').apply(lambda x: x.iloc[1:]).reset_index(drop=True)\n"
     ]
    }
   ],
   "source": [
    "clean_data = clean_data.groupby('Unnamed: 0').apply(lambda x: x.iloc[1:]).reset_index(drop=True)"
   ]
  },
  {
   "cell_type": "code",
   "execution_count": 105,
   "metadata": {},
   "outputs": [],
   "source": [
    "clean_data = clean_data.sort_values(by=['GID', 'TID'])\n",
    "clean_data = clean_data[clean_data['OPS%'] != 0]"
   ]
  },
  {
   "cell_type": "code",
   "execution_count": 87,
   "metadata": {},
   "outputs": [],
   "source": [
    "clean_data.to_csv('clean_data.csv')"
   ]
  }
 ],
 "metadata": {
  "kernelspec": {
   "display_name": "Python 3",
   "language": "python",
   "name": "python3"
  },
  "language_info": {
   "codemirror_mode": {
    "name": "ipython",
    "version": 3
   },
   "file_extension": ".py",
   "mimetype": "text/x-python",
   "name": "python",
   "nbconvert_exporter": "python",
   "pygments_lexer": "ipython3",
   "version": "3.9.6"
  }
 },
 "nbformat": 4,
 "nbformat_minor": 2
}
