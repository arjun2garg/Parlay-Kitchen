{
 "cells": [
  {
   "cell_type": "code",
   "execution_count": 37,
   "metadata": {},
   "outputs": [],
   "source": [
    "import torch\n",
    "import torch.nn as nn\n",
    "import torch.nn.functional as F\n",
    "import matplotlib.pyplot as plt\n",
    "import numpy as np\n",
    "import pandas as pd"
   ]
  },
  {
   "cell_type": "code",
   "execution_count": 38,
   "metadata": {},
   "outputs": [],
   "source": [
    "data = pd.read_csv('sv_clean.csv')\n",
    "data = data.drop(columns='Unnamed: 0.1')"
   ]
  },
  {
   "cell_type": "code",
   "execution_count": 39,
   "metadata": {},
   "outputs": [],
   "source": [
    "np.random.seed(245)\n",
    "grouped = data.groupby('GID')\n",
    "group_keys = list(grouped.groups.keys())\n",
    "np.random.shuffle(group_keys)\n",
    "shuffled_data = pd.concat([grouped.get_group(key) for key in group_keys]).reset_index(drop=True)\n",
    "n1 = int(0.8 * len(data))"
   ]
  },
  {
   "cell_type": "code",
   "execution_count": 40,
   "metadata": {},
   "outputs": [],
   "source": [
    "stats = ['SA', 'CT', 'PS%', 'SV_x', 'OPS%', 'O1G', 'O2G', 'OSH', 'OSOG']\n",
    "\n",
    "f_means = {}\n",
    "f_sd = {}\n",
    "for stat in stats:\n",
    "    f_means[stat] = shuffled_data[:n1][stat].mean()\n",
    "    f_sd[stat] = shuffled_data[:n1][stat].std()\n",
    "\n",
    "def standardize_data(df):\n",
    "    for col in df.columns:\n",
    "        if col in f_means:\n",
    "            df[col] = (df[col] - f_means[col]) / f_sd[col]\n",
    "    return df\n",
    "\n",
    "def build_dataset(df):\n",
    "    X = torch.tensor(df[stats[0]].values).view(-1, 1).to(torch.float32)\n",
    "    for i in range(1, len(stats)):\n",
    "        stat_tensor = torch.tensor(df[stats[i]].values).view(-1, 1).to(torch.float32)\n",
    "        X = torch.cat((X, stat_tensor), dim=1)\n",
    "    \n",
    "    Y = torch.tensor(df['SV'].values).to(torch.float32)\n",
    "\n",
    "    return X, Y\n",
    "\n",
    "shuffled_data = standardize_data(shuffled_data)\n",
    "Xtr, Ytr = build_dataset(shuffled_data[:n1])\n",
    "Xval, Yval = build_dataset(shuffled_data[n1:])"
   ]
  },
  {
   "cell_type": "code",
   "execution_count": 41,
   "metadata": {},
   "outputs": [],
   "source": [
    "class SimpleModel(nn.Module):\n",
    "\n",
    "    def __init__(self):\n",
    "        super().__init__()\n",
    "        self.linear = nn.Linear(in_features=9, out_features=1)\n",
    "    \n",
    "    def forward(self, x):\n",
    "        out = self.linear(x)\n",
    "        return out"
   ]
  },
  {
   "cell_type": "code",
   "execution_count": 42,
   "metadata": {},
   "outputs": [],
   "source": [
    "model = SimpleModel()\n",
    "criterion = nn.MSELoss()\n",
    "lr = 0.01\n",
    "optimizer = torch.optim.SGD(model.parameters(), lr=lr)"
   ]
  },
  {
   "cell_type": "code",
   "execution_count": 43,
   "metadata": {},
   "outputs": [
    {
     "name": "stdout",
     "output_type": "stream",
     "text": [
      "tensor(154.3382, grad_fn=<MseLossBackward0>)\n"
     ]
    }
   ],
   "source": [
    "num_epochs = 10\n",
    "for epoch in range(num_epochs):\n",
    "\n",
    "    # forward pass\n",
    "    pred = model(Xtr)\n",
    "    loss = criterion(pred.view(-1), Ytr)\n",
    "\n",
    "    # backward pass\n",
    "    optimizer.zero_grad()\n",
    "    loss.backward()\n",
    "    optimizer.step()\n",
    "\n",
    "    if epoch % 10 == 0:\n",
    "        print(loss)"
   ]
  },
  {
   "cell_type": "code",
   "execution_count": 44,
   "metadata": {},
   "outputs": [
    {
     "name": "stdout",
     "output_type": "stream",
     "text": [
      "tensor(104.7442, grad_fn=<MseLossBackward0>)\n"
     ]
    }
   ],
   "source": [
    "# find val loss\n",
    "pred_val = model(Xval)\n",
    "loss_val = criterion(pred_val.view(-1), Yval)\n",
    "print(loss_val)"
   ]
  },
  {
   "cell_type": "code",
   "execution_count": 13,
   "metadata": {},
   "outputs": [
    {
     "name": "stdout",
     "output_type": "stream",
     "text": [
      "<class 'pandas.core.frame.DataFrame'>\n",
      "RangeIndex: 30 entries, 0 to 29\n",
      "Data columns (total 18 columns):\n",
      " #   Column      Non-Null Count  Dtype  \n",
      "---  ------      --------------  -----  \n",
      " 0   Unnamed: 0  30 non-null     object \n",
      " 1   SA          30 non-null     float64\n",
      " 2   SV          30 non-null     float64\n",
      " 3   GID         30 non-null     float64\n",
      " 4   TID         30 non-null     float64\n",
      " 5   CT          30 non-null     float64\n",
      " 6   OTID        30 non-null     float64\n",
      " 7   1G          30 non-null     float64\n",
      " 8   2G          30 non-null     float64\n",
      " 9   SH          30 non-null     float64\n",
      " 10  SOG         30 non-null     float64\n",
      " 11  PS%         30 non-null     float64\n",
      " 12  SV_x        30 non-null     float64\n",
      " 13  OPS%        30 non-null     float64\n",
      " 14  O1G         30 non-null     float64\n",
      " 15  O2G         30 non-null     float64\n",
      " 16  OSH         30 non-null     float64\n",
      " 17  OSOG        30 non-null     float64\n",
      "dtypes: float64(17), object(1)\n",
      "memory usage: 4.3+ KB\n"
     ]
    }
   ],
   "source": [
    "shuffled_data.info()"
   ]
  },
  {
   "cell_type": "code",
   "execution_count": null,
   "metadata": {},
   "outputs": [],
   "source": [
    "opp_dict = {\n",
    "    1:'T. Schreiber',\n",
    "    2:'M. Sowers',\n",
    "    3:'M. Holman',\n",
    "    4:'J. Teat',\n",
    "    5:'J. Heningburg',\n",
    "    6:'S. Handley',\n",
    "    7:'TJ Malone',\n",
    "    8:'R. Pannell'\n",
    "}\n",
    "\n",
    "team_stats = ['SA', 'SV', 'CT', 'PS%']\n",
    "opp_stats = ['OPS%', 'O1G', 'O2G', 'OSH', 'OSOG']"
   ]
  },
  {
   "cell_type": "code",
   "execution_count": null,
   "metadata": {},
   "outputs": [],
   "source": [
    "# build prediction data\n",
    "cur_data = pd.read_csv('sv_cur.csv')\n",
    "cur_data = cur_data.drop(columns='Unnamed: 0.1')\n",
    "cur_data = standardize_data(cur_data)\n",
    "\n",
    "def build_input(df, player, opp):\n",
    "    X = torch.tensor(df[team_stats[0]][df['Unnamed: 0'] == player].values).view(-1, 1).to(torch.float32)\n",
    "    for i in range(1, len(team_stats)):\n",
    "        stat_tensor = torch.tensor(df[team_stats[i]][df['Unnamed: 0'] == player].values).view(-1, 1).to(torch.float32)\n",
    "        X = torch.cat((X, stat_tensor), dim=1)\n",
    "    \n",
    "    for i in range(len(opp_stats)):\n",
    "        stat_tensor = torch.tensor(df[opp_stats[i]][df['Unnamed: 0'] == opp_dict[opp]].values).view(-1, 1).to(torch.float32)\n",
    "        X = torch.cat((X, stat_tensor), dim=1)\n",
    "    \n",
    "    return X"
   ]
  },
  {
   "cell_type": "code",
   "execution_count": null,
   "metadata": {},
   "outputs": [],
   "source": [
    "player = 'S. Handley'\n",
    "opp = 2\n",
    "\n",
    "cur_x = build_input(cur_data, player, opp)\n",
    "print(model(cur_x))"
   ]
  }
 ],
 "metadata": {
  "kernelspec": {
   "display_name": "Python 3",
   "language": "python",
   "name": "python3"
  },
  "language_info": {
   "codemirror_mode": {
    "name": "ipython",
    "version": 3
   },
   "file_extension": ".py",
   "mimetype": "text/x-python",
   "name": "python",
   "nbconvert_exporter": "python",
   "pygments_lexer": "ipython3",
   "version": "3.9.6"
  }
 },
 "nbformat": 4,
 "nbformat_minor": 2
}
