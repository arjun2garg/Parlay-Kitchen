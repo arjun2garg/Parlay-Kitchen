{
 "cells": [
  {
   "cell_type": "code",
   "execution_count": 1,
   "metadata": {},
   "outputs": [],
   "source": [
    "import torch\n",
    "import torch.nn as nn\n",
    "import torch.nn.functional as F\n",
    "import matplotlib.pyplot as plt\n",
    "import numpy as np\n",
    "import pandas as pd"
   ]
  },
  {
   "cell_type": "code",
   "execution_count": null,
   "metadata": {},
   "outputs": [],
   "source": [
    "data = pd.read_csv('clean_data.csv')\n",
    "data = data.drop(columns=['Unnamed: 0'])\n",
    "\n",
    "odds_data = pd.read_csv('clean_odds.csv')\n",
    "odds_data = odds_data.drop(columns=['Unnamed: 0'])"
   ]
  },
  {
   "cell_type": "code",
   "execution_count": null,
   "metadata": {},
   "outputs": [],
   "source": [
    "odds_games = set(odds_data['GAME_ID'])\n",
    "data = data[~data['GAME_ID'].isin(odds_games)]"
   ]
  },
  {
   "cell_type": "code",
   "execution_count": null,
   "metadata": {},
   "outputs": [],
   "source": [
    "np.random.seed(324)\n",
    "grouped = data.groupby('GAME_ID')\n",
    "group_keys = list(grouped.groups.keys())\n",
    "np.random.shuffle(group_keys)\n",
    "shuffled_data = pd.concat([grouped.get_group(key) for key in group_keys]).reset_index(drop=True)\n",
    "n1 = int(0.8 * len(data))\n",
    "n2 = int(0.9 * len(data))"
   ]
  }
 ],
 "metadata": {
  "kernelspec": {
   "display_name": "Python 3",
   "language": "python",
   "name": "python3"
  },
  "language_info": {
   "codemirror_mode": {
    "name": "ipython",
    "version": 3
   },
   "file_extension": ".py",
   "mimetype": "text/x-python",
   "name": "python",
   "nbconvert_exporter": "python",
   "pygments_lexer": "ipython3",
   "version": "3.9.6"
  }
 },
 "nbformat": 4,
 "nbformat_minor": 2
}
