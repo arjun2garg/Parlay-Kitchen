{
 "cells": [
  {
   "cell_type": "code",
   "execution_count": 1,
   "metadata": {},
   "outputs": [],
   "source": [
    "import torch\n",
    "import torch.nn as nn\n",
    "import torch.nn.functional as F\n",
    "import matplotlib.pyplot as plt\n",
    "import numpy as np\n",
    "import pandas as pd"
   ]
  },
  {
   "cell_type": "code",
   "execution_count": 2,
   "metadata": {},
   "outputs": [
    {
     "name": "stderr",
     "output_type": "stream",
     "text": [
      "/var/folders/1j/ycj6sm297qj2d2b1b3pb8k980000gn/T/ipykernel_3734/2466255697.py:1: DtypeWarning: Columns (3,4,7) have mixed types. Specify dtype option on import or set low_memory=False.\n",
      "  trad_data = pd.read_csv('trad_data.csv')\n"
     ]
    }
   ],
   "source": [
    "trad_data = pd.read_csv('trad_data.csv')\n",
    "# trad_data = trad_data.drop(columns=['Unnamed: 0', 'Unnamed: 0.1', 'Unnamed: 0.2'])\n",
    "# trad_data = trad_data.drop(columns=['TEAM_CITY', 'NICKNAME', 'COMMENT', 'FGM', 'FGA', 'FG_PCT', 'FG3M', 'FG3A', 'FG3_PCT', 'FTM', 'FTA', 'FT_PCT',\n",
    "#        'OREB', 'DREB', 'STL', 'BLK', 'TO', 'PF','PLUS_MINUS', 'START_POSITION'])\n",
    "# trad_data = trad_data.drop_duplicates()"
   ]
  },
  {
   "cell_type": "code",
   "execution_count": 4,
   "metadata": {},
   "outputs": [
    {
     "data": {
      "text/plain": [
       "0           F\n",
       "1           F\n",
       "2           C\n",
       "3           G\n",
       "4           G\n",
       "         ... \n",
       "484382    NaN\n",
       "484383    NaN\n",
       "484384    NaN\n",
       "484385    NaN\n",
       "484386    NaN\n",
       "Name: START_POSITION, Length: 484387, dtype: object"
      ]
     },
     "execution_count": 4,
     "metadata": {},
     "output_type": "execute_result"
    }
   ],
   "source": [
    "trad_data['START_POSITION']"
   ]
  },
  {
   "cell_type": "code",
   "execution_count": 63,
   "metadata": {},
   "outputs": [],
   "source": [
    "trad_data['AVG_PTS'] = trad_data.groupby('PLAYER_ID')['PTS'].transform('median')\n",
    "trad_data = trad_data.dropna()\n",
    "top_players = trad_data.sort_values(by='AVG_PTS', ascending=False).groupby(['GAME_ID', 'TEAM_ID']).head(5)\n",
    "top_players = top_players.groupby(['GAME_ID', 'TEAM_ID']).filter(lambda x: len(x) == 5)"
   ]
  },
  {
   "cell_type": "code",
   "execution_count": 64,
   "metadata": {},
   "outputs": [
    {
     "name": "stderr",
     "output_type": "stream",
     "text": [
      "/var/folders/1j/ycj6sm297qj2d2b1b3pb8k980000gn/T/ipykernel_74099/906401800.py:4: FutureWarning: DataFrame.applymap has been deprecated. Use DataFrame.map instead.\n",
      "  pivoted = pivoted.applymap(lambda x: 'over' if x else 'under')\n"
     ]
    }
   ],
   "source": [
    "top_players['OVER'] = top_players['PTS'] > top_players['AVG_PTS']\n",
    "top_players['RANK'] = top_players.groupby(['GAME_ID', 'TEAM_ID'])['AVG_PTS'].rank(method='first', ascending=False)\n",
    "pivoted = top_players.pivot_table(index=['GAME_ID', 'TEAM_ID'], columns='RANK', values='OVER', aggfunc='first')\n",
    "pivoted = pivoted.applymap(lambda x: 'over' if x else 'under')\n",
    "pivoted['OUTCOME'] = pivoted[1].astype(str) + '_' + pivoted[2].astype(str) + '_' + pivoted[3].astype(str) + '_' + pivoted[4].astype(str) + '_' + pivoted[5].astype(str)\n",
    "outcome_counts = pivoted['OUTCOME'].value_counts()"
   ]
  },
  {
   "cell_type": "code",
   "execution_count": 65,
   "metadata": {},
   "outputs": [
    {
     "name": "stdout",
     "output_type": "stream",
     "text": [
      "OUTCOME\n",
      "over_over_under_under_under      1474\n",
      "over_over_over_under_under       1431\n",
      "over_under_over_under_under      1383\n",
      "over_under_under_under_under     1327\n",
      "under_over_over_under_under      1286\n",
      "under_under_under_under_under    1284\n",
      "over_over_under_under_over       1274\n",
      "over_under_over_over_under       1253\n",
      "over_over_under_over_under       1235\n",
      "under_over_over_over_under       1222\n",
      "over_over_over_over_under        1214\n",
      "under_over_under_under_under     1205\n",
      "under_under_over_over_under      1195\n",
      "under_over_over_under_over       1180\n",
      "over_under_under_over_under      1177\n",
      "over_under_under_under_over      1173\n",
      "over_under_over_under_over       1171\n",
      "under_under_over_under_under     1126\n",
      "under_over_under_over_under      1126\n",
      "over_over_over_under_over        1112\n",
      "over_over_under_over_over        1096\n",
      "under_over_under_over_over       1089\n",
      "under_over_under_under_over      1088\n",
      "under_under_over_over_over       1088\n",
      "under_under_under_over_over      1087\n",
      "under_under_over_under_over      1073\n",
      "over_under_under_over_over       1061\n",
      "under_under_under_over_under     1059\n",
      "over_under_over_over_over        1056\n",
      "under_under_under_under_over     1056\n",
      "under_over_over_over_over        1043\n",
      "over_over_over_over_over          938\n",
      "Name: count, dtype: int64\n"
     ]
    }
   ],
   "source": [
    "print(outcome_counts)"
   ]
  },
  {
   "cell_type": "code",
   "execution_count": 66,
   "metadata": {},
   "outputs": [
    {
     "name": "stdout",
     "output_type": "stream",
     "text": [
      "RANK       1.0       2.0       3.0       4.0       5.0\n",
      "RANK                                                  \n",
      "1.0   1.000000  0.018298 -0.048443 -0.092324 -0.092245\n",
      "2.0   0.018298  1.000000 -0.048373 -0.096570 -0.088341\n",
      "3.0  -0.048443 -0.048373  1.000000 -0.045470 -0.083868\n",
      "4.0  -0.092324 -0.096570 -0.045470  1.000000 -0.038332\n",
      "5.0  -0.092245 -0.088341 -0.083868 -0.038332  1.000000\n"
     ]
    }
   ],
   "source": [
    "pivoted2 = top_players.pivot_table(index=['GAME_ID', 'TEAM_ID'], columns='RANK', values='PTS')\n",
    "correlation_matrix = pivoted2.corr()\n",
    "print(correlation_matrix)"
   ]
  },
  {
   "cell_type": "code",
   "execution_count": null,
   "metadata": {},
   "outputs": [],
   "source": []
  }
 ],
 "metadata": {
  "kernelspec": {
   "display_name": "Python 3",
   "language": "python",
   "name": "python3"
  },
  "language_info": {
   "codemirror_mode": {
    "name": "ipython",
    "version": 3
   },
   "file_extension": ".py",
   "mimetype": "text/x-python",
   "name": "python",
   "nbconvert_exporter": "python",
   "pygments_lexer": "ipython3",
   "version": "3.9.6"
  }
 },
 "nbformat": 4,
 "nbformat_minor": 2
}
